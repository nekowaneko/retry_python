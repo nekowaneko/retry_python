{
 "cells": [
  {
   "cell_type": "markdown",
   "metadata": {
    "id": "1MAA4zYvoduj"
   },
   "source": [
    "# Python 基礎語法\n",
    "\n",
    "\n",
    "\n",
    "\n",
    "\n",
    "\n",
    "\n"
   ]
  },
  {
   "cell_type": "markdown",
   "metadata": {
    "id": "kBhz3ojRrbcE"
   },
   "source": [
    "## 變數 (Variables)\n",
    "變數就像是數學中的未知數，可以用來儲存資料。\n"
   ]
  },
  {
   "cell_type": "code",
   "execution_count": 1,
   "metadata": {
    "colab": {
     "base_uri": "https://localhost:8080/"
    },
    "executionInfo": {
     "elapsed": 19,
     "status": "ok",
     "timestamp": 1748317265152,
     "user": {
      "displayName": "鄭毅明",
      "userId": "17051502874304964313"
     },
     "user_tz": -480
    },
    "id": "Hl1nceq7qNj-",
    "outputId": "4f486ab9-3bc4-4b0e-872d-8511afa55c26"
   },
   "outputs": [
    {
     "name": "stdout",
     "output_type": "stream",
     "text": [
      "10\n",
      "Hello, Python!\n"
     ]
    }
   ],
   "source": [
    "# 在萬物前面輸入井字號就會是一個註解，Python不會執行註解的內容，在colab中，你可以看到註解變成綠色的字\n",
    "\n",
    "# 將數字 10 存到變數 x\n",
    "x = 10\n",
    "\n",
    "# 將文字 \"Hello\" 存到變數 message\n",
    "message = \"Hello, Python!\"\n",
    "\n",
    "# 可以用 print() 函式印出變數的內容\n",
    "print(x)\n",
    "print(message)\n",
    "\n",
    "# 按左上角的播放鍵或按 shift + enter 可以執行此區塊內的程式碼"
   ]
  },
  {
   "cell_type": "markdown",
   "metadata": {
    "id": "gv8b1PFmqssf"
   },
   "source": [
    "## 串列 (Lists)\n",
    "串列可以用來儲存一連串的資料，資料可以是數字、文字或其他任何東西。"
   ]
  },
  {
   "cell_type": "code",
   "execution_count": 2,
   "metadata": {
    "colab": {
     "base_uri": "https://localhost:8080/"
    },
    "executionInfo": {
     "elapsed": 24,
     "status": "ok",
     "timestamp": 1748317265222,
     "user": {
      "displayName": "鄭毅明",
      "userId": "17051502874304964313"
     },
     "user_tz": -480
    },
    "id": "X4qDYPkxrC-4",
    "outputId": "08da19a5-a636-44b0-b000-e808aa625b7f"
   },
   "outputs": [
    {
     "name": "stdout",
     "output_type": "stream",
     "text": [
      "[1, 2, 3, 4, 5]\n",
      "['Alice', 'Bob', 'Charlie']\n",
      "1\n",
      "Bob\n",
      "[10.1, 10.3, 10.2]\n",
      "10.3\n"
     ]
    }
   ],
   "source": [
    "# 創建一個包含數字的串列\n",
    "numbers = [1, 2, 3, 4, 5]\n",
    "print(numbers)\n",
    "\n",
    "# 創建一個包含文字的串列\n",
    "names = [\"Alice\", \"Bob\", \"Charlie\"]\n",
    "print(names)\n",
    "\n",
    "# 取得串列中的特定元素 (注意：索引從 0 開始！)\n",
    "print(numbers[0]) # 印出 1\n",
    "print(names[1])   # 印出 Bob\n",
    "\n",
    "# 也可以建立多維串列 (串列中包含串列)\n",
    "data_group1 = [10.1, 10.3, 10.2]\n",
    "all_data = [[10.1, 10.3, 10.2], [12.5, 12.3, 12.7], [15.0, 15.1, 14.9]]\n",
    "print(all_data[0])      # 印出第一組數據 [10.1, 10.3, 10.2]\n",
    "print(all_data[0][1]) # 印出第一組數據的第二個值 10.3\n",
    "\n",
    "# 按左上角的播放鍵或按shift + enter 可以執行此區塊內的程式碼"
   ]
  },
  {
   "cell_type": "markdown",
   "metadata": {
    "id": "n598zN7trpJ2"
   },
   "source": [
    "## 迴圈 (Loops)\n",
    "迴圈可以讓我們重複執行相同的程式碼。for 迴圈常用來遍歷串列中的每一個元素。"
   ]
  },
  {
   "cell_type": "code",
   "execution_count": 3,
   "metadata": {
    "colab": {
     "base_uri": "https://localhost:8080/"
    },
    "executionInfo": {
     "elapsed": 9,
     "status": "ok",
     "timestamp": 1748317265229,
     "user": {
      "displayName": "鄭毅明",
      "userId": "17051502874304964313"
     },
     "user_tz": -480
    },
    "id": "3fW14AJQrJsf",
    "outputId": "a907b885-31bc-4bd5-9988-e1db71614979"
   },
   "outputs": [
    {
     "name": "stdout",
     "output_type": "stream",
     "text": [
      "1\n",
      "2\n",
      "3\n",
      "4\n",
      "5\n",
      "0\n",
      "1\n",
      "2\n",
      "3\n",
      "4\n"
     ]
    }
   ],
   "source": [
    "# 還記得numbers這個變數有哪些資料嗎?\n",
    "# 忘了也沒關係，colab會記得你在這個頁面所設的所有變數\n",
    "\n",
    "# 遍歷 numbers 串列中的每一個數字並印出\n",
    "for num in numbers:\n",
    "    print(num)\n",
    "\n",
    "# 也可以搭配 range() 函式產生一連串數字\n",
    "for i in range(5): # range(5) 會產生 0, 1, 2, 3, 4\n",
    "    print(i)\n",
    "\n",
    "# 按左上角的播放鍵或按shift + enter 可以執行此區塊內的程式碼"
   ]
  },
  {
   "cell_type": "markdown",
   "metadata": {
    "id": "r-vtyhOqsZT7"
   },
   "source": [
    "# Numpy 套件入門\n",
    "Numpy (Numerical Python) 是 Python 中用於科學計算的核心函式庫。它提供了高效能的多維陣列物件 (ndarray) 以及操作這些陣列的工具。\n",
    "\n",
    "首先，我們需要「匯入」(import) Numpy 函式庫，通常會給它一個簡稱 np，方便之後使用。"
   ]
  },
  {
   "cell_type": "code",
   "execution_count": 4,
   "metadata": {
    "id": "L3jTK78or4nP"
   },
   "outputs": [],
   "source": [
    "import numpy as np\n",
    "\n",
    "# 記得要執行喔"
   ]
  },
  {
   "cell_type": "markdown",
   "metadata": {
    "id": "aWgmngblsuex"
   },
   "source": [
    "## Numpy 陣列 (Array)\n",
    "Numpy 陣列跟 Python 的串列很像，但更適合用來做數值運算。"
   ]
  },
  {
   "cell_type": "code",
   "execution_count": 5,
   "metadata": {
    "colab": {
     "base_uri": "https://localhost:8080/"
    },
    "executionInfo": {
     "elapsed": 32,
     "status": "ok",
     "timestamp": 1748317265298,
     "user": {
      "displayName": "鄭毅明",
      "userId": "17051502874304964313"
     },
     "user_tz": -480
    },
    "id": "VCqpXK_RskBU",
    "outputId": "459a1866-6dcd-4813-c34b-cdd4705e0e77"
   },
   "outputs": [
    {
     "name": "stdout",
     "output_type": "stream",
     "text": [
      "[1. 2. 3. 4. 5.]\n",
      "[ 2.  4.  6.  8. 10.]\n",
      "[ 6.  7.  8.  9. 10.]\n"
     ]
    }
   ],
   "source": [
    "# 從 Python 串列創建 Numpy 陣列\n",
    "data_array = np.array([1.0, 2.0, 3.0, 4.0, 5.0])\n",
    "print(data_array)\n",
    "\n",
    "# Numpy 陣列可以直接進行數學運算\n",
    "print(data_array * 2)  # 陣列中的每個元素都乘以 2\n",
    "print(data_array + 5)  # 陣列中的每個元素都加 5"
   ]
  },
  {
   "cell_type": "markdown",
   "metadata": {
    "id": "K3kgRtd-thgb"
   },
   "source": [
    "## 計算平均值與標準差\n",
    "在實驗中，我們通常會對同一個物理量進行多次測量，以減少隨機誤差。\n",
    "\n",
    "\n",
    "*   平均值 (Mean)：代表數據的集中趨勢。\n",
    "*   標準差 (Standard Deviation)：代表測量數據的離散程度。\n",
    "\n",
    "\n",
    "假設我們有五組數據，每組有三個測量值："
   ]
  },
  {
   "cell_type": "code",
   "execution_count": 22,
   "metadata": {
    "id": "iQ_DZ5obut9I"
   },
   "outputs": [],
   "source": [
    "data_points = [\n",
    "    [10.1, 10.3, 10.2],  # 第 1 組數據\n",
    "    [12.5, 12.3, 12.7],  # 第 2 組數據\n",
    "    [15.0, 15.1, 14.9],  # 第 3 組數據\n",
    "    [17.8, 17.5, 17.6],  # 第 4 組數據\n",
    "    [20.2, 20.4, 20.3]   # 第 5 組數據\n",
    "]"
   ]
  },
  {
   "cell_type": "markdown",
   "metadata": {
    "id": "PPtLQ2w5xXSf"
   },
   "source": [
    "現在，我們要分別計算每一組數據的平均值和標準差。Numpy 提供了方便的函式：\n",
    "\n",
    "\n",
    "*   np.mean(np_data_points)：計算平均值(必須輸入numpy陣列計算)\n",
    "*   np.std(np_data_points,ddof)：計算標準差，分成母體標準差(ddof = 0)和樣本標準差(ddof = 1)。由於我們的數據量少，因此皆採用樣本標準差。\n"
   ]
  },
  {
   "cell_type": "code",
   "execution_count": 7,
   "metadata": {
    "colab": {
     "base_uri": "https://localhost:8080/"
    },
    "executionInfo": {
     "elapsed": 7,
     "status": "ok",
     "timestamp": 1748325757543,
     "user": {
      "displayName": "鄭毅明",
      "userId": "17051502874304964313"
     },
     "user_tz": -480
    },
    "id": "_hnTrj-ut79R",
    "outputId": "ea8e8aca-043d-45b8-f1aa-894f2eb5d778"
   },
   "outputs": [
    {
     "name": "stdout",
     "output_type": "stream",
     "text": [
      "各組數據的平均值: [10.2, 12.5, 15.0, 17.633333333333333, 20.299999999999997]\n",
      "各組數據的標準差: [0.10000000000000053, 0.1999999999999993, 0.09999999999999964, 0.1527525231651949, 0.09999999999999964]\n"
     ]
    }
   ],
   "source": [
    "import numpy as np\n",
    "\n",
    "data_points = [\n",
    "    [10.1, 10.3, 10.2],      # 第一個操縱變因下所量出的應變變因值\n",
    "    [12.5, 12.3, 12.7],      # 第二個操縱變因下所量出的應變變因值\n",
    "    [15.0, 15.1, 14.9],      # 以此類推\n",
    "    [17.8, 17.5, 17.6],\n",
    "    [20.2, 20.4, 20.3]\n",
    "]\n",
    "\n",
    "means = []      # 用 list 來儲存每組數據的平均值\n",
    "stds = [] # 用 list 來儲存每組數據的標準差\n",
    "\n",
    "for group_data in data_points:\n",
    "    # 將 Python 串列轉換成 Numpy 陣列，方便計算\n",
    "    np_group_data = np.array(group_data)\n",
    "\n",
    "    # 計算平均值\n",
    "    mean_value = np.mean(group_data)\n",
    "    means.append(mean_value)\n",
    "\n",
    "    # 計算標準差\n",
    "    std_value = np.std(np_group_data,ddof = 1)\n",
    "\n",
    "    # 透過 append 將 std_value 加入 stds 這個list中\n",
    "    stds.append(std_value)\n",
    "\n",
    "print(\"各組數據的平均值:\", means)\n",
    "print(\"各組數據的標準差:\", stds)"
   ]
  },
  {
   "cell_type": "markdown",
   "metadata": {
    "id": "CPstL5wgyKOd"
   },
   "source": [
    "# Matplotlib 套件繪圖(基本款)\n",
    "### Matplotlib 是 Python 中最常用的繪圖函式庫。它可以讓我們將數據轉換成各種圖表，例如折線圖、散佈圖、長條圖等。\n",
    "\n",
    "### 我們通常會匯入 matplotlib.pyplot 模組，並給它一個簡稱 plt。"
   ]
  },
  {
   "cell_type": "code",
   "execution_count": 8,
   "metadata": {
    "id": "vOAmP_UTyO-p"
   },
   "outputs": [],
   "source": [
    "import matplotlib.pyplot as plt"
   ]
  },
  {
   "cell_type": "markdown",
   "metadata": {
    "id": "5ugU87lHykjD"
   },
   "source": [
    "散佈圖與誤差棒 (Error Bar)## 繪製散佈圖與誤差棒 (Error Bar)\n",
    "我們的任務是要將每組數據的平均值畫成散佈圖上的點，並用誤差棒來表示其不確定度。\n",
    "\n",
    "假設我們用 x 軸表示組別編號 (1, 2, 3, 4, 5)，y 軸表示對應的平均值。"
   ]
  },
  {
   "cell_type": "code",
   "execution_count": 9,
   "metadata": {
    "colab": {
     "base_uri": "https://localhost:8080/",
     "height": 564
    },
    "executionInfo": {
     "elapsed": 317,
     "status": "ok",
     "timestamp": 1748325767840,
     "user": {
      "displayName": "鄭毅明",
      "userId": "17051502874304964313"
     },
     "user_tz": -480
    },
    "id": "xcogfQLSyoVO",
    "outputId": "b87a3040-4a42-46ff-ac2e-a392bdab4170"
   },
   "outputs": [
    {
     "data": {
      "image/png": "[encoded data removed]",
      "text/plain": [
       "<Figure size 800x600 with 1 Axes>"
      ]
     },
     "metadata": {},
     "output_type": "display_data"
    }
   ],
   "source": [
    "import numpy as np\n",
    "import matplotlib.pyplot as plt\n",
    "\n",
    "# x 軸數據 (實驗中操縱變因的各個值)\n",
    "# 為了方便計算最適直線，我們假設 x 軸的值就是 1, 2, 3, 4, 5\n",
    "x_values = np.array([1, 2, 3, 4, 5])\n",
    "y_values = np.array(means)       # 平均值作為 y 軸\n",
    "y_errors = np.array(stds) # 不確定度作為 error bar 的大小\n",
    "\n",
    "# 開始繪圖\n",
    "plt.figure(figsize=(8, 6)) # 設定圖表大小 (可選)\n",
    "\n",
    "# 繪製散佈圖與 error bar\n",
    "# fmt='o' 表示用圓點標記數據點\n",
    "# capsize=5 讓 error bar 的頂端有短橫線，更美觀\n",
    "plt.errorbar(x_values, y_values, yerr=y_errors, fmt='o', capsize=5, label='mean')\n",
    "\n",
    "# 設定圖表標題與座標軸標籤\n",
    "# 由於plt不支援中文的座標軸標題，所以你們的座標軸標題、散佈圖主題與座標軸單位，都請用打英文\n",
    "plt.title('scatter plot')\n",
    "plt.xlabel('Independent variables')  # Independent variables : 操縱變因\n",
    "plt.ylabel('dependent variable')     # dependent variable : 應變變因\n",
    "\n",
    "# 顯示圖例\n",
    "plt.legend()\n",
    "\n",
    "\n",
    "# 顯示圖表\n",
    "plt.show()"
   ]
  },
  {
   "cell_type": "markdown",
   "metadata": {
    "tags": []
   },
   "source": [
    "# 矩陣、Numpy 陣列與最適直線\n",
    "上一個cell所做的圖只是說明了數據分布與其標準差，但做散佈圖最重要的是像人們闡述操縱變因與應變變因的關係，因此，需要用\"最適直線\"來表達。\n",
    "\n",
    "我們剛剛設定的data_points就是一個矩陣，在此用G表達，並如下所示:\n",
    "\n",
    "$$ G = \\begin{bmatrix}10.1 & 10.3 & 10.2 \\\\ 12.5 & 12.3 & 12.7 \\\\ 15.0 & 15.1 & 14.9 \\\\17.8 & 17.5 & 17.6 \\\\20.2 & 20.4 & 20.3 \\end{bmatrix} $$"
   ]
  },
  {
   "cell_type": "markdown",
   "metadata": {},
   "source": [
    "## 何謂矩陣\n",
    "### 矩陣只是由m行n列的「元素」所組成的矩形陣列。\n",
    "\n",
    "<img src=\"https://github.com/nekowaneko/teacher_test/blob/main/matrix%20dim.png?raw=true\" width=\"900px\">\n"
   ]
  },
  {
   "cell_type": "code",
   "execution_count": 28,
   "metadata": {
    "id": "T7HJv33MVY1k"
   },
   "outputs": [
    {
     "name": "stdout",
     "output_type": "stream",
     "text": [
      "q matrix is \n",
      " [[12  4 10]\n",
      " [ 8  1 11]].\n",
      "\n",
      "q matrix 的形狀為 2 rows and 3 columns , 可以表示為 (2, 3)\n",
      "\n",
      "q 的轉置矩陣為 \n",
      " [[12  8]\n",
      " [ 4  1]\n",
      " [10 11]]。\n"
     ]
    }
   ],
   "source": [
    "# 在實際操作上，我們可以用簡單的程式碼完成矩陣的轉置\n",
    "# 先建立一個2x3的矩陣q\n",
    "\n",
    "q = np.array([[12,4,10],\n",
    "              [8,1,11]])\n",
    "\n",
    "print(f'q matrix is \\n {q}.')\n",
    "print(f'\\nq matrix 的形狀為 {np.shape(q)[0]} rows and {np.shape(q)[1]} columns , 可以表示為',np.shape(q)) #用np.shape()可以知道矩陣的欄列數量\n",
    "\n",
    "traspose_q = q.T\n",
    "\n",
    "print(f'\\nq 的轉置矩陣為 \\n {traspose_q}。')\n",
    "\n",
    "# more detials: https://numpy.org/doc/stable/reference/generated/numpy.ndarray.T.html"
   ]
  },
  {
   "cell_type": "markdown",
   "metadata": {},
   "source": [
    "## 矩陣基本運算\n",
    "### 矩陣可以相加、乘以常數、相乘或是內積。\n",
    "\n",
    "### 在運算上，矩陣還可以有單位矩陣、反矩陣、對角畫矩陣與行列式，這些在高二下學期數學算得要死的東西，python幾行指令(甚至複製貼上)就有精準的答案了。\n"
   ]
  },
  {
   "cell_type": "markdown",
   "metadata": {},
   "source": [
    "<img src=\"https://github.com/nekowaneko/teacher_test/blob/main/matrix%20cal.png?raw=true\" width=\"900px\">\n"
   ]
  },
  {
   "cell_type": "code",
   "execution_count": 11,
   "metadata": {},
   "outputs": [
    {
     "name": "stdout",
     "output_type": "stream",
     "text": [
      "一維矩陣相乘(q1 dot q2) = [14].\n",
      "q1 dot q2 的資料類型是 <class 'numpy.ndarray'>.\n",
      "The value of q1 dot q2 = 14.\n",
      "q1_dot_q2[0] 的資料類型是 <class 'numpy.int32'>.\n"
     ]
    }
   ],
   "source": [
    "# 此cell我們只操作矩陣內積，想學矩陣相加請自己查資料\n",
    "# 一樣，我們定義矩陣q1,q2，再將其內積\n",
    "\n",
    "q1 = np.array([1,2,3])\n",
    "q2 = np.array([[1],\n",
    "              [2],\n",
    "              [3]])\n",
    "\n",
    "#對於1-D 矩陣(i =1 or j =1)來說，用以下函數算出的不是矩陣\n",
    "q1_dot_q2 = q1.dot(q2) # 1*1+2*2+3*3 = 14\n",
    "\n",
    "print(f'一維矩陣相乘(q1 dot q2) = {q1_dot_q2}.')\n",
    "print(f'q1 dot q2 的資料類型是 {type(q1_dot_q2)}.')       # 使用type()函數，他會告訴你輸入內容的資料類別(最前面講的那些，你們應該還沒忘記吧?)\n",
    "print(f'The value of q1 dot q2 = {q1_dot_q2[0]}.')       # 由於q1_dot_q2是一個np.array，且值儲存在第 1 row 第 1 colum中，我們可以透過q1_dot_q2[0]將其找到。\n",
    "print(f'q1_dot_q2[0] 的資料類型是 {type(q1_dot_q2[0])}.') # 由type()函數可知，q1_dot_q2[0]是一個整數(int)。\n"
   ]
  },
  {
   "cell_type": "markdown",
   "metadata": {},
   "source": [
    "<img src=\"https://github.com/nekowaneko/teacher_test/blob/main/matrix%20multi.png?raw=true\" width=\"900px\">"
   ]
  },
  {
   "cell_type": "code",
   "execution_count": 12,
   "metadata": {},
   "outputs": [
    {
     "name": "stdout",
     "output_type": "stream",
     "text": [
      "非一維矩陣相乘為 \n",
      "[[27 33]\n",
      " [60 75]].\n"
     ]
    }
   ],
   "source": [
    "# 對於非1-D 矩陣，以下函數就會算出矩陣了\n",
    "q7 = np.array([[1,2,3],[4,5,6]])\n",
    "q8 = np.array([[1,2],\n",
    "               [4,5],\n",
    "               [6,7]])\n",
    "\n",
    "q7_x_q8 = np.dot(q7,q8) \n",
    "\n",
    "print(f'非一維矩陣相乘為 \\n{q7_x_q8}.')"
   ]
  },
  {
   "cell_type": "markdown",
   "metadata": {},
   "source": [
    "<img src=\"https://github.com/nekowaneko/teacher_test/blob/main/matrix%20id.png?raw=true\" width=\"900px\">\n",
    "\n",
    "<img src=\"https://github.com/nekowaneko/teacher_test/blob/main/matrix%20inverse.png?raw=true\" width=\"900px\">\n",
    "\n",
    "<img src=\"https://github.com/nekowaneko/teacher_test/blob/main/matrix%20det.png?raw=true\" width=\"900px\">"
   ]
  },
  {
   "cell_type": "code",
   "execution_count": 13,
   "metadata": {},
   "outputs": [
    {
     "name": "stdout",
     "output_type": "stream",
     "text": [
      "二階方陣的單位矩陣為 \n",
      "[[1. 0.]\n",
      " [0. 1.]]\n",
      "\n",
      "q3的行列式是 \n",
      "-4.000000000000001\n",
      "\n",
      "q3的反矩陣是 \n",
      "[[-0.5   0.5 ]\n",
      " [ 0.75 -0.25]]\n"
     ]
    }
   ],
   "source": [
    "# 現在，我們來設定單位矩陣\n",
    "\n",
    "I2 = np.identity(2)\n",
    "\n",
    "print(f'二階方陣的單位矩陣為 \\n{I2}')\n",
    "\n",
    "# 再來是反矩陣與行列式，我們設定新的矩陣q3\n",
    "\n",
    "q3 =np.array( [[1,2],\n",
    "               [3,2]])\n",
    "\n",
    "\n",
    "# 計算出行列式\n",
    "\n",
    "q3_det = np.linalg.det(q3)\n",
    "\n",
    "print(f'\\nq3的行列式是 \\n{q3_det}') # 使用np.linalg.det()將矩陣轉換成行列式\n",
    "\n",
    "# more details: https://numpy.org/doc/stable/reference/routines.linalg.html\n",
    "\n",
    "\n",
    "\n",
    "q3_inv = np.linalg.inv(q3) # 使用np.linalg.inv()將矩陣轉換成反矩陣\n",
    "\n",
    "print(f'\\nq3的反矩陣是 \\n{q3_inv}')\n",
    "\n",
    "# more details: https://numpy.org/doc/stable/reference/generated/numpy.linalg.inv.html"
   ]
  },
  {
   "cell_type": "markdown",
   "metadata": {},
   "source": [
    "<img src=\"https://github.com/nekowaneko/teacher_test/blob/main/%E4%BD%A0%E5%B7%B2%E7%B6%93%E5%AD%B8%E6%9C%83%E5%85%A8%E9%83%A8%E7%9A%84%E5%9F%BA%E6%9C%AC%E6%93%8D%E4%BD%9C.jpg?raw=true\" width=\"300px\">\n",
    "\n",
    "## <font color=#ff00ff> 利用矩陣算出各種最適直線 </font>\n",
    "\n",
    "### <center> 對於最簡單的最適直線(當然，有複雜的)--線性回歸來說，其方程式如下: </center>\n",
    "\n",
    "$$ y = m_0+m_1 x $$\n",
    " \n",
    "#### <center> 其中 $ x $ = 操縱變因 & $ y $ = 應變變因</center>\n",
    "\n",
    "$$ \\mathbf G  = \\begin{bmatrix} 1 & x_1 \\\\ 1 & x_2  \\\\ \\vdots  & \\vdots \\\\ 1 & x_n  \\end{bmatrix}, \n",
    "\\mathbf m= \\begin{bmatrix} m_0\\\\ m_1 \\end{bmatrix}, \\mathbf d  = \\begin{bmatrix} y_1\\\\ y_2 \\\\ \\vdots \\\\ y_n  \\end{bmatrix}$$\n",
    "\n",
    "\n",
    "### <center>m 是我們要求的方程式係數，所幸前人給出了解法，此解法適合處理 over-determined  problem。 </center>\n",
    "\n",
    "## over-determined  problem : \n",
    "\n",
    "### <center>此方法的計算原理採用最小平方法。 </center>\n",
    "\n",
    "$$ \\mathbf m = [\\mathbf G^{\\mathbf T}\\mathbf G]^{-1}\\mathbf G^{\\mathbf T}\\mathbf d  $$"
   ]
  },
  {
   "cell_type": "markdown",
   "metadata": {},
   "source": [
    "### 問題:如何產生 $$ \\mathbf G  = \\begin{bmatrix} 1 & x_1 \\\\ 1 & x_2  \\\\ \\vdots  & \\vdots \\\\ 1 & x_n  \\end{bmatrix}$$\n"
   ]
  },
  {
   "cell_type": "code",
   "execution_count": 14,
   "metadata": {},
   "outputs": [
    {
     "name": "stdout",
     "output_type": "stream",
     "text": [
      "[[1 1 1 1 1]]\n",
      "[[1 1 1 1 1]\n",
      " [1 2 3 4 5]]\n",
      "[[1 1]\n",
      " [1 2]\n",
      " [1 3]\n",
      " [1 4]\n",
      " [1 5]]\n"
     ]
    }
   ],
   "source": [
    "# 沿用之前設定的x_values\n",
    "x = x_values\n",
    "\n",
    "# 使用np.full(shape,fill value)函數，填充1在矩陣中\n",
    "const = np.full((1,len(x_values)),1) \n",
    "\n",
    "print(const) # 可以看到矩陣const的形狀\n",
    "\n",
    "G_temp = np.vstack([const,x]) # 使用np.vstack將兩個np.array組合\n",
    "print(G_temp)                 # 可以看到G_temp的形狀\n",
    "\n",
    "G = G_temp.T                  # 將其轉置即可得到G\n",
    "print(G)"
   ]
  },
  {
   "cell_type": "code",
   "execution_count": 15,
   "metadata": {},
   "outputs": [
    {
     "name": "stdout",
     "output_type": "stream",
     "text": [
      "[10.2        12.5        15.         17.63333333 20.3       ]\n",
      "[7.52666667 2.53333333]\n"
     ]
    }
   ],
   "source": [
    "# 沿用之前設定的y_values(代表測量的平均值)\n",
    "y = y_values\n",
    "d = y.T\n",
    "print(d)\n",
    "\n",
    "m = (np.linalg.inv(G.T.dot(G))).dot(G.T).dot(d)\n",
    "\n",
    "print(m)"
   ]
  },
  {
   "cell_type": "markdown",
   "metadata": {},
   "source": [
    "## <font color=#ff00ff>在散佈圖上呈現最適直線與相關係數 </font>\n",
    "\n",
    "### 快做好了，加油。\n",
    "\n",
    "### 經過上述的計算，我們知道\n",
    "\n",
    "$$ y = m_0+m_1 x $$\n",
    "$$ m[0] = m_0 ;m[1] = m_1  $$\n",
    "\n",
    "### 透過以下四步驟，就可以將數據完整呈現在散佈圖上，並儲存成png檔案\n",
    "\n",
    "### step1: \n",
    "* 產生一個xx array，將x從最小值到最大值切成100等分 "
   ]
  },
  {
   "cell_type": "code",
   "execution_count": 16,
   "metadata": {},
   "outputs": [],
   "source": [
    "xx=np.linspace(x.min(),x.max(),100)  #用np.linspace()函數在x的最大值與最小值間切出100個等距的值"
   ]
  },
  {
   "cell_type": "markdown",
   "metadata": {},
   "source": [
    "### step2: \n",
    "* 經由最適直線預測出操縱變因理應測量到的值"
   ]
  },
  {
   "cell_type": "code",
   "execution_count": 17,
   "metadata": {},
   "outputs": [
    {
     "name": "stdout",
     "output_type": "stream",
     "text": [
      "最適直線為 y=2.533333333333335 x + 7.5266666666666815\n"
     ]
    }
   ],
   "source": [
    "yy = m[0]+m[1]*xx\n",
    "print(f'最適直線為 y={m[1]} x + {m[0]}')"
   ]
  },
  {
   "cell_type": "markdown",
   "metadata": {},
   "source": [
    "### step3:\n",
    "* 計算測量值與回歸值線間的整體偏移量   E\n",
    "\n",
    "$$ E =  \\sum_{i=1}^{n}(\\mathbf e_i)^2=  \\sum_{i=1}^{n}(\\mathbf d - \\mathbf G \\mathbf m )^2$$\n",
    "\n",
    "* 算出相關係數(correlation coefficient)\n",
    "\n",
    "相關係數 ($ R^2 $) 的公式如下: \n",
    "$$ R^2 = 1-E / \\sum_{i=1}^{n} (d-mean(d))^2 $$\n",
    "\n",
    "* 請問這個數值代表著什麼意義？\n",
    "\n",
    "代表此最適直線可以解釋大約 $ R^2 $ 比例的數據結果。"
   ]
  },
  {
   "cell_type": "code",
   "execution_count": 18,
   "metadata": {},
   "outputs": [
    {
     "name": "stdout",
     "output_type": "stream",
     "text": [
      "相關係數(R^2)是 1.00\n"
     ]
    }
   ],
   "source": [
    "# Calculate the error vector\n",
    "e = d - G.dot(m)\n",
    "    \n",
    "# Compute the squared error and the root mean square error\n",
    "E = np.sum(e**2)\n",
    "\n",
    "R_squart = 1 - E/np.sum((d-np.mean(d))**2)\n",
    "\n",
    "print(r\"相關係數(R^2)是 {:.2f}\".format(R_squart))"
   ]
  },
  {
   "cell_type": "markdown",
   "metadata": {},
   "source": [
    "### step4: \n",
    "* 將最適直線與相關係數呈現在散佈圖上，並儲存成png檔案"
   ]
  },
  {
   "cell_type": "code",
   "execution_count": 19,
   "metadata": {},
   "outputs": [
    {
     "data": {
      "image/png": "[encoded data removed]",
      "text/plain": [
       "<Figure size 800x600 with 1 Axes>"
      ]
     },
     "metadata": {},
     "output_type": "display_data"
    }
   ],
   "source": [
    "plt.figure(figsize=(8, 6))\n",
    "\n",
    "plt.errorbar(x_values, y_values, yerr=stds, fmt='o', capsize=5, label='mean')\n",
    "plt.plot(xx, yy, '-', color='red', label= r\"$y={:.2f}+{:.2f}x$ , $R^2={:.2f}$\".format(m[0].item(), m[1].item(), R_squart))\n",
    "\n",
    "plt.title('scatter plot')\n",
    "plt.xlabel('Independent variables')\n",
    "plt.ylabel('dependent variable')\n",
    "plt.legend()\n",
    "plt.savefig('textbook.png')\n",
    "plt.show()\n"
   ]
  },
  {
   "cell_type": "markdown",
   "metadata": {},
   "source": [
    "### step bonus:\n",
    "* 上述方法可以應用在任何類型的回歸線方程式上\n",
    "\n",
    "我們的目標是希望找到相關係數最大的方程式，這樣才能更好的說明x與y的關係。\n",
    "\n",
    "因此，可以將上述做法進行小修正，以擬合更多方程式，例如:\n",
    "1. 多項式 $( y = ax^2 + bx + c )$\n",
    "2. 指數 $(y = e^x + c)$\n",
    "3. 對數 $(y = ln(x) + c)$\n",
    "4. 等等等\n",
    "\n",
    "以下使用二次多項式為例子，教你們怎麼擴充G"
   ]
  },
  {
   "cell_type": "markdown",
   "metadata": {},
   "source": [
    "$$ y = m_0 + m_1 x + m_2 x^2$$\n",
    " \n",
    "\n",
    "$$ \\mathbf G  = \\begin{bmatrix} 1 & x_1 & x_1^2 \\\\ 1 & x_2 & x_2^2 \\\\ \\vdots  & \\vdots \\\\ 1 & x_n & x_3^2 \\end{bmatrix}, \n",
    "\\mathbf m= \\begin{bmatrix} m_0\\\\ m_1\\\\ m_2 \\end{bmatrix}, \\mathbf d  = \\begin{bmatrix} y_1\\\\ y_2 \\\\ \\vdots \\\\ y_n  \\end{bmatrix}$$\n",
    "\n",
    "### 由上述可知，G必須因此多一個colum\n"
   ]
  },
  {
   "cell_type": "code",
   "execution_count": 20,
   "metadata": {},
   "outputs": [
    {
     "name": "stdout",
     "output_type": "stream",
     "text": [
      "(3, 5)\n"
     ]
    }
   ],
   "source": [
    "x = x_values\n",
    "x_sqrt = x_values**2\n",
    "\n",
    "G_sqrt = np.vstack([const,x,x_sqrt])\n",
    "print(np.shape(G_sqrt))"
   ]
  },
  {
   "cell_type": "code",
   "execution_count": null,
   "metadata": {},
   "outputs": [],
   "source": []
  }
 ],
 "metadata": {
  "colab": {
   "authorship_tag": "ABX9TyOCDc0HghGkK//6uTXGMfTu",
   "provenance": []
  },
  "kernelspec": {
   "display_name": "Python 3 (ipykernel)",
   "language": "python",
   "name": "python3"
  },
  "language_info": {
   "codemirror_mode": {
    "name": "ipython",
    "version": 3
   },
   "file_extension": ".py",
   "mimetype": "text/x-python",
   "name": "python",
   "nbconvert_exporter": "python",
   "pygments_lexer": "ipython3",
   "version": "3.9.13"
  }
 },
 "nbformat": 4,
 "nbformat_minor": 4
}
