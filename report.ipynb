{
 "cells": [
  {
   "cell_type": "markdown",
   "id": "98a91f22-4e7b-41d8-a743-66dd4d784bbd",
   "metadata": {},
   "source": [
    "# 完成以下步驟，即可做出散佈圖\n",
    "\n",
    "### 之後地科還會用到，記不起來沒關係，可以參照textbook.ipynb的過程"
   ]
  },
  {
   "cell_type": "markdown",
   "id": "2082921a-2199-4690-af61-fc6b54943ff1",
   "metadata": {},
   "source": [
    "## step 1 匯入函式庫"
   ]
  },
  {
   "cell_type": "code",
   "execution_count": null,
   "id": "4d605c48-461f-4f74-8332-b5814ebc1dae",
   "metadata": {},
   "outputs": [],
   "source": []
  },
  {
   "cell_type": "markdown",
   "id": "d7042a84-b4bd-48ee-bb05-10788de169fa",
   "metadata": {},
   "source": [
    "## step 2 宣告兩個numpy陣列的變數，分別為x數據與y數據\n",
    "\n",
    "### <font color=#ff00ff> 注意 : y數據的shape應為(8,6) </font>"
   ]
  },
  {
   "cell_type": "code",
   "execution_count": null,
   "id": "183b3d90-aa56-4094-9cf8-5956cb73fdb3",
   "metadata": {},
   "outputs": [],
   "source": []
  },
  {
   "cell_type": "markdown",
   "id": "17899d87-ca85-4a67-845c-83fd64f3096d",
   "metadata": {},
   "source": [
    "## step 3 宣告兩個變數，分別為y數據的平均與標準差"
   ]
  },
  {
   "cell_type": "code",
   "execution_count": null,
   "id": "d3136e4f-4b3d-4740-b3ef-47cbf392e28b",
   "metadata": {},
   "outputs": [],
   "source": []
  },
  {
   "cell_type": "markdown",
   "id": "63d7d1bc-421e-4e08-ba61-0cf870169867",
   "metadata": {},
   "source": [
    "## step 4 繪製散佈圖與誤差棒 (Error Bar)"
   ]
  },
  {
   "cell_type": "code",
   "execution_count": null,
   "id": "14e4695c-fd2b-422a-b178-c2bfebe9ead6",
   "metadata": {},
   "outputs": [],
   "source": []
  },
  {
   "cell_type": "markdown",
   "id": "da976a02-fe8c-44e0-b334-c805edd14725",
   "metadata": {},
   "source": [
    "## step 5 觀察散佈圖比較像哪一個方程式，並用註解的方式輸入在下面空格中\n",
    "\n",
    "1. 多項式( y = ax**2 + bx + c )\n",
    "2. 指數(y = e**x + c)\n",
    "3. 對數(y = ln(x) + c)\n",
    "4. 數學課學過的方程式"
   ]
  },
  {
   "cell_type": "code",
   "execution_count": null,
   "id": "ad02dc73-fe8f-4166-a24c-da213c6c8d6e",
   "metadata": {},
   "outputs": [],
   "source": []
  },
  {
   "cell_type": "markdown",
   "id": "7442ebc3-c2ee-4d98-aac3-0fe835bb7902",
   "metadata": {},
   "source": [
    "## step 6 根據你們決定的方程式，改寫以下矩陣中的G、d 於下一格中\n",
    "\n",
    "### 如果你們的方程式是 $ y = m_0+m_1 x $\n",
    "\n",
    "### 則 m、G、d 為\n",
    "\n",
    "$$ \\mathbf G  = \\begin{bmatrix} 1 & x_1 \\\\ 1 & x_2  \\\\ \\vdots  & \\vdots \\\\ 1 & x_n  \\end{bmatrix}, \n",
    "\\mathbf m= \\begin{bmatrix} m_0\\\\ m_1 \\end{bmatrix}, \\mathbf d  = \\begin{bmatrix} y_1\\\\ y_2 \\\\ \\vdots \\\\ y_n  \\end{bmatrix}$$\n",
    "\n",
    "### 請依照上述規矩改寫"
   ]
  },
  {
   "cell_type": "code",
   "execution_count": null,
   "id": "47ca4123-e3a4-47a3-a839-e83c17ca989b",
   "metadata": {},
   "outputs": [],
   "source": []
  },
  {
   "cell_type": "markdown",
   "id": "05c33eb9-1993-4c7b-9744-5d69c9cecc91",
   "metadata": {},
   "source": [
    "## step 7 算出矩陣 m\n",
    "\n",
    "### 提示 $ \\mathbf m = [\\mathbf G^{\\mathbf T}\\mathbf G]^{-1}\\mathbf G^{\\mathbf T}\\mathbf d  $"
   ]
  },
  {
   "cell_type": "code",
   "execution_count": null,
   "id": "e79a23eb-0242-4e05-8d99-bf9b0da43578",
   "metadata": {},
   "outputs": [],
   "source": []
  },
  {
   "cell_type": "markdown",
   "id": "59d022e4-c32d-4b24-9777-37a79191c026",
   "metadata": {},
   "source": [
    "## step 8 算出經由最適直線預測出操縱變因理應測量到的值，並將其存為一個變數"
   ]
  },
  {
   "cell_type": "code",
   "execution_count": null,
   "id": "2fc50269-e418-4283-8a94-cdf81a076224",
   "metadata": {},
   "outputs": [],
   "source": []
  },
  {
   "cell_type": "markdown",
   "id": "bd721137-72d7-4d96-b295-1ae118ae193f",
   "metadata": {},
   "source": [
    "## step 9 算出相關係數 $ R^2 $ ，並存為一個變數"
   ]
  },
  {
   "cell_type": "code",
   "execution_count": null,
   "id": "c1be44c0-fbe1-4afb-a840-d82fa73c250c",
   "metadata": {},
   "outputs": [],
   "source": []
  },
  {
   "cell_type": "markdown",
   "id": "46d8b981-5a46-43cc-ad20-5512df75db6c",
   "metadata": {},
   "source": [
    "## step 10 將回歸直線與相關係數呈現在新的散佈圖上，並儲存成png檔案"
   ]
  },
  {
   "cell_type": "code",
   "execution_count": null,
   "id": "54665b5a-727a-4a95-b9da-5beaea8f08ec",
   "metadata": {},
   "outputs": [],
   "source": []
  },
  {
   "cell_type": "markdown",
   "id": "62487bd3-faf8-4485-b4bc-02868a4b4899",
   "metadata": {},
   "source": [
    "## step final 上面散佈圖中的最適直線代表什麼意思，請以註解的方式輸入在下一格"
   ]
  },
  {
   "cell_type": "code",
   "execution_count": null,
   "id": "16021335-6a1e-44ee-9891-42e451677957",
   "metadata": {},
   "outputs": [],
   "source": []
  }
 ],
 "metadata": {
  "kernelspec": {
   "display_name": "Python 3 (ipykernel)",
   "language": "python",
   "name": "python3"
  },
  "language_info": {
   "codemirror_mode": {
    "name": "ipython",
    "version": 3
   },
   "file_extension": ".py",
   "mimetype": "text/x-python",
   "name": "python",
   "nbconvert_exporter": "python",
   "pygments_lexer": "ipython3",
   "version": "3.9.13"
  }
 },
 "nbformat": 4,
 "nbformat_minor": 5
}
